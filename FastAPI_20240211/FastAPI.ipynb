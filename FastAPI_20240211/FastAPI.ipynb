{
 "cells": [
  {
   "cell_type": "markdown",
   "id": "9348802e",
   "metadata": {},
   "source": [
    "##   FastAPI自作アプリ"
   ]
  },
  {
   "cell_type": "code",
   "execution_count": null,
   "id": "c38ab867",
   "metadata": {},
   "outputs": [],
   "source": [
    "# Windows, Macほぼ共通\n",
    "uvicorn main:app --reload --port 8001      #\"main.py\"の場合のPrompt。\"main\"部分に作成したpythonファイル名(.pyは除く)を代替"
   ]
  },
  {
   "cell_type": "markdown",
   "id": "4980b02d",
   "metadata": {},
   "source": [
    "###   APIリクエスト準備"
   ]
  },
  {
   "cell_type": "code",
   "execution_count": 8,
   "id": "f0a02d80",
   "metadata": {},
   "outputs": [],
   "source": [
    "import requests  # import"
   ]
  },
  {
   "cell_type": "code",
   "execution_count": 9,
   "id": "e3b0efb9",
   "metadata": {},
   "outputs": [],
   "source": [
    "##End pointの設定　  -    port + \"/double\"\n",
    "FastAPI_url = 'http://127.0.0.1:8001/pikachu'  # FastAPI /  port 8001"
   ]
  },
  {
   "cell_type": "markdown",
   "id": "b8a8eef6",
   "metadata": {},
   "source": [
    "### API document / リクエストボディの作成"
   ]
  },
  {
   "cell_type": "code",
   "execution_count": 18,
   "id": "40d89471",
   "metadata": {},
   "outputs": [],
   "source": [
    "# FastAPI / API docs通りにリクエストボディ（body）を作成。\n",
    "body = {\n",
    "    \"number\" : 5\n",
    "}"
   ]
  },
  {
   "cell_type": "markdown",
   "id": "257ae04c",
   "metadata": {},
   "source": [
    "###   POST & Responseの確認"
   ]
  },
  {
   "cell_type": "code",
   "execution_count": 19,
   "id": "4cf70cf9",
   "metadata": {},
   "outputs": [],
   "source": [
    "res_fastapi = requests.post(FastAPI_url,json = body)  #Endpointは\"FastAPI_url\"を指定"
   ]
  },
  {
   "cell_type": "code",
   "execution_count": 20,
   "id": "12bbdccb",
   "metadata": {},
   "outputs": [
    {
     "data": {
      "text/plain": [
       "<Response [200]>"
      ]
     },
     "execution_count": 20,
     "metadata": {},
     "output_type": "execute_result"
    }
   ],
   "source": [
    "res_fastapi "
   ]
  },
  {
   "cell_type": "code",
   "execution_count": 21,
   "id": "78b85fcc",
   "metadata": {
    "scrolled": true
   },
   "outputs": [
    {
     "data": {
      "text/plain": [
       "{'result': 'ピカピカピカピカ、ピカチュウ！'}"
      ]
     },
     "execution_count": 21,
     "metadata": {},
     "output_type": "execute_result"
    }
   ],
   "source": [
    "res_fastapi .json()"
   ]
  },
  {
   "cell_type": "markdown",
   "id": "09d17f05",
   "metadata": {},
   "source": [
    "# "
   ]
  },
  {
   "cell_type": "markdown",
   "id": "0bdb7a44",
   "metadata": {},
   "source": [
    "# "
   ]
  }
 ],
 "metadata": {
  "kernelspec": {
   "display_name": "Python 3 (ipykernel)",
   "language": "python",
   "name": "python3"
  },
  "language_info": {
   "codemirror_mode": {
    "name": "ipython",
    "version": 3
   },
   "file_extension": ".py",
   "mimetype": "text/x-python",
   "name": "python",
   "nbconvert_exporter": "python",
   "pygments_lexer": "ipython3",
   "version": "3.11.3"
  }
 },
 "nbformat": 4,
 "nbformat_minor": 5
}
